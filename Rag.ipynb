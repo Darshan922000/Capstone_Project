{
 "cells": [
  {
   "cell_type": "code",
   "execution_count": 23,
   "metadata": {},
   "outputs": [
    {
     "name": "stdout",
     "output_type": "stream",
     "text": [
      "True\n",
      "NVIDIA GeForce GTX 1650\n"
     ]
    }
   ],
   "source": [
    "import torch\n",
    "print(torch.cuda.is_available()) \n",
    "print(torch.cuda.get_device_name(0))  # GPU name"
   ]
  },
  {
   "cell_type": "code",
   "execution_count": 24,
   "metadata": {},
   "outputs": [],
   "source": [
    "from langchain.document_loaders import PyPDFLoader\n",
    "from langchain.text_splitter import CharacterTextSplitter\n",
    "from langchain.embeddings import HuggingFaceEmbeddings\n",
    "from langchain.vectorstores import FAISS\n",
    "from langchain.chains import RetrievalQA\n",
    "from langchain.llms import HuggingFacePipeline\n",
    "import ollama\n",
    "from transformers import AutoTokenizer, AutoModelForCausalLM\n",
    "from transformers import pipeline"
   ]
  },
  {
   "cell_type": "code",
   "execution_count": null,
   "metadata": {},
   "outputs": [
    {
     "data": {
      "text/plain": [
       "list"
      ]
     },
     "execution_count": 3,
     "metadata": {},
     "output_type": "execute_result"
    }
   ],
   "source": [
    "# loader = PyPDFLoader(\"./doc/budget-2024.pdf\")\n",
    "# doc = loader.load()\n",
    "# type(doc)"
   ]
  },
  {
   "cell_type": "code",
   "execution_count": 14,
   "metadata": {},
   "outputs": [],
   "source": [
    "# text_spliter = CharacterTextSplitter(chunk_size = 1000, chunk_overlap = 30, separator = \"\\n\")\n",
    "# docs = text_spliter.split_documents(documents = doc)\n"
   ]
  },
  {
   "cell_type": "code",
   "execution_count": 25,
   "metadata": {},
   "outputs": [],
   "source": [
    "embedding_model = \"sentence-transformers/all-MiniLM-L6-v2\"   # It maps sentences & paragraphs to a 384 dimensional dense vector space\n",
    "model_kwargs = {'device': 'cuda'} # it will use googl cloud gpu..\n",
    "embeddings = HuggingFaceEmbeddings(model_name=embedding_model, model_kwargs=model_kwargs) #model_kwargs=model_kwargs"
   ]
  },
  {
   "cell_type": "code",
   "execution_count": null,
   "metadata": {},
   "outputs": [],
   "source": [
    "#vectorstore = FAISS.from_documents(docs, embeddings)"
   ]
  },
  {
   "cell_type": "code",
   "execution_count": null,
   "metadata": {},
   "outputs": [],
   "source": [
    "#vectorstore.save_local(\"faiss_index\")"
   ]
  },
  {
   "cell_type": "code",
   "execution_count": 26,
   "metadata": {},
   "outputs": [],
   "source": [
    "#loading embedding...\n",
    "embedding_vectorestore = FAISS.load_local(\"faiss_index\", embeddings, allow_dangerous_deserialization=True)"
   ]
  },
  {
   "cell_type": "code",
   "execution_count": 27,
   "metadata": {},
   "outputs": [],
   "source": [
    "retriever = embedding_vectorestore.as_retriever(search_type=\"similarity\")"
   ]
  },
  {
   "cell_type": "markdown",
   "metadata": {},
   "source": [
    "curl -fsSL https://ollama.ai/install.sh | sh\n",
    "\n",
    "ollama serve & ollama pull llama3., llama3.2:3b"
   ]
  },
  {
   "cell_type": "code",
   "execution_count": 31,
   "metadata": {},
   "outputs": [],
   "source": [
    "from langchain_ollama import OllamaLLM\n",
    "llm = OllamaLLM(model=\"llama3.2:3b\")"
   ]
  },
  {
   "cell_type": "code",
   "execution_count": 32,
   "metadata": {},
   "outputs": [],
   "source": [
    "qa = RetrievalQA.from_chain_type(llm=llm, chain_type=\"stuff\", retriever=retriever)"
   ]
  },
  {
   "cell_type": "code",
   "execution_count": 34,
   "metadata": {},
   "outputs": [
    {
     "name": "stdout",
     "output_type": "stream",
     "text": [
      "{'query': 'How much new financing is being unlocked to build more rental apartments per year?', 'result': 'The amount of new financing being unlocked to build more rental apartments per year is $20 billion. This will increase the annual limit for Canada Mortgage Bonds from $40 billion to up to $60 billion, allowing for 30,000 more rental apartments to be built per year over the next three years and more than 750,000 homes across Canada over the next decade.'}\n"
     ]
    }
   ],
   "source": [
    "result = qa.invoke('How much new financing is being unlocked to build more rental apartments per year?')\n",
    "print(result)"
   ]
  },
  {
   "cell_type": "markdown",
   "metadata": {},
   "source": [
    "# Evaluation"
   ]
  },
  {
   "cell_type": "code",
   "execution_count": 46,
   "metadata": {},
   "outputs": [],
   "source": [
    "from nltk.translate.bleu_score import sentence_bleu, SmoothingFunction\n",
    "from rouge_score import rouge_scorer"
   ]
  },
  {
   "cell_type": "code",
   "execution_count": 36,
   "metadata": {},
   "outputs": [],
   "source": [
    "queries = ['How much new financing is being unlocked to build more rental apartments per year?',\n",
    "  'What is the goal of the Public Lands for Homes Plan?',\n",
    "  'How many properties does National Defence own across Canada, and what is their total area?',\n",
    "  'What is the total investment announced in Budget 2024 for the Apartment Construction Loan Program',\n",
    "  'How much funding is proposed for the Canada Housing Infrastructure Fund in Budget 2024?',\n",
    "  'What is the total investment commitment made by the Canada Infrastructure Bank since 2017?',\n",
    "  'How much funding is proposed for the Homebuilding Technology and Innovation Fund in Budget 2024?',\n",
    "  'How many workers does the construction sector in Canada face a shortage by 2032?',\n",
    "  'What is the proposed funding amount in Budget 2024 for creating apprenticeship opportunities?',\n",
    "  'What do young adults in Canada feel regarding the possibility of owning a home?']\n",
    "\n",
    "references = ['$20 billion to build 30,000 more rental apartments per year.',\n",
    "  'The goal is to unlock 250,000 new homes by 2031',\n",
    "  'National Defence owns 622 properties totaling 2.2 million hectares across every province and territory.',\n",
    "  'Budget 2024 announces an additional $15 billion for the Apartment Construction Loan Program',\n",
    "  'The proposed funding is $6 billion over 10 years',\n",
    "  'The total investment commitment is over $11 billion.',\n",
    "  'The proposed funding is $50 million over two years',\n",
    "  'The sector faces a shortage of over 60,000 workers by 2032',\n",
    "  '$100 million over two years',\n",
    "  'Young adults feel that owning a home is becoming less likely due to rising home prices outpacing their salaries']"
   ]
  },
  {
   "cell_type": "code",
   "execution_count": 37,
   "metadata": {},
   "outputs": [],
   "source": [
    "predictions = [qa.invoke(query)[\"result\"] for query in queries]\n"
   ]
  },
  {
   "cell_type": "code",
   "execution_count": 38,
   "metadata": {},
   "outputs": [
    {
     "data": {
      "text/plain": [
       "['According to the text, over the next three years, more than 750,000 homes across Canada will be built. Over the next decade, it is not specified exactly how many new rentals per year are being unlocked but the total amount of $20 billion in new financing mentioned earlier indicates that for the next three years this amount was available and for the next decade a similar funding increase ($40-60 billion) is proposed to bring up to 30,000 more rental apartments per year.',\n",
       " 'The goal of the Public Lands for Homes Plan is to unlock 250,000 new homes by 2031.',\n",
       " 'According to the context provided, National Defence owns 622 properties across every province and territory in Canada. The total area of these properties is 2.2 million hectares.',\n",
       " 'The total investment announced in Budget 2024 for the Apartment Construction Loan Program is $55 billion.',\n",
       " 'The federal government proposes to provide $6 billion over 10 years, starting in 2024-25, to launch a new Canada Housing Infrastructure Fund.',\n",
       " 'The Canada Infrastructure Bank has made investments of over $11 billion in more than 50 projects, and catalyzed over $31 billion in total investment.',\n",
       " '$50 million over two years, beginning in 2024-25, is proposed for the Next Generation Manufacturing Canada (NGen) to launch a new Homebuilding Technology and Innovation Fund.',\n",
       " 'The construction sector in Canada faces a shortage of over 60,000 workers by 2032.',\n",
       " 'The proposed funding amount in Budget 2024 for creating apprenticeship opportunities is $90 million over two years, starting in 2024-25.',\n",
       " \"According to the context, young adults in Canada feel like the possibility of owning a home is less and less likely due to increases in home prices that outpace their salaries and wages. They worry that they won't ever be able to afford homes like the ones they grew up in.\"]"
      ]
     },
     "execution_count": 38,
     "metadata": {},
     "output_type": "execute_result"
    }
   ],
   "source": [
    "predictions"
   ]
  },
  {
   "cell_type": "code",
   "execution_count": 44,
   "metadata": {},
   "outputs": [],
   "source": [
    "#Note: Blue score won't give me correct answer....\n",
    "# smooth = SmoothingFunction().method4\n",
    "# scores = [sentence_bleu([ref], pred.split(), smoothing_function=smooth) for ref, pred in zip(references, predictions)]\n",
    "# print(\"BLEU Scores:\", scores)\n"
   ]
  },
  {
   "cell_type": "markdown",
   "metadata": {},
   "source": [
    "```\n",
    "ROUGE-1: Measures unigram (single word) overlap between the reference and prediction.\n",
    "ROUGE-2: Measures bigram (two consecutive words) overlap. This is more strict than ROUGE-1, as it evaluates phrase-level similarity.\n",
    "ROUGE-L: Measures the longest common subsequence (LCS).\n",
    "```"
   ]
  },
  {
   "cell_type": "code",
   "execution_count": 47,
   "metadata": {},
   "outputs": [
    {
     "name": "stdout",
     "output_type": "stream",
     "text": [
      "Reference 1 vs Prediction 1:\n",
      "ROUGE-1: 0.2083, ROUGE-2: 0.1489, ROUGE-L: 0.2083\n",
      "\n",
      "Reference 2 vs Prediction 2:\n",
      "ROUGE-1: 0.7586, ROUGE-2: 0.6667, ROUGE-L: 0.7586\n",
      "\n",
      "Reference 3 vs Prediction 3:\n",
      "ROUGE-1: 0.6977, ROUGE-2: 0.5366, ROUGE-L: 0.4651\n",
      "\n",
      "Reference 4 vs Prediction 4:\n",
      "ROUGE-1: 0.6897, ROUGE-2: 0.4444, ROUGE-L: 0.5517\n",
      "\n",
      "Reference 5 vs Prediction 5:\n",
      "ROUGE-1: 0.5000, ROUGE-2: 0.2667, ROUGE-L: 0.4375\n",
      "\n",
      "Reference 6 vs Prediction 6:\n",
      "ROUGE-1: 0.3750, ROUGE-2: 0.2000, ROUGE-L: 0.3125\n",
      "\n",
      "Reference 7 vs Prediction 7:\n",
      "ROUGE-1: 0.5000, ROUGE-2: 0.2353, ROUGE-L: 0.2778\n",
      "\n",
      "Reference 8 vs Prediction 8:\n",
      "ROUGE-1: 0.8889, ROUGE-2: 0.7200, ROUGE-L: 0.8889\n",
      "\n",
      "Reference 9 vs Prediction 9:\n",
      "ROUGE-1: 0.3077, ROUGE-2: 0.2500, ROUGE-L: 0.3077\n",
      "\n",
      "Reference 10 vs Prediction 10:\n",
      "ROUGE-1: 0.4789, ROUGE-2: 0.2899, ROUGE-L: 0.4507\n",
      "\n"
     ]
    }
   ],
   "source": [
    "# Initialize ROUGE scorer\n",
    "scorer = rouge_scorer.RougeScorer(['rouge1', 'rouge2', 'rougeL'], use_stemmer=True)\n",
    "\n",
    "# Calculate ROUGE scores\n",
    "rouge_scores = [scorer.score(ref, pred) for ref, pred in zip(references, predictions)]\n",
    "\n",
    "# Display the scores\n",
    "for i, score in enumerate(rouge_scores):\n",
    "    print(f\"Reference {i+1} vs Prediction {i+1}:\")\n",
    "    print(f\"ROUGE-1: {score['rouge1'].fmeasure:.4f}, \"\n",
    "          f\"ROUGE-2: {score['rouge2'].fmeasure:.4f}, \"\n",
    "          f\"ROUGE-L: {score['rougeL'].fmeasure:.4f}\")\n",
    "    print()"
   ]
  },
  {
   "cell_type": "code",
   "execution_count": 45,
   "metadata": {},
   "outputs": [],
   "source": [
    "import torch\n",
    "torch.cuda.empty_cache()\n"
   ]
  }
 ],
 "metadata": {
  "kernelspec": {
   "display_name": ".venv",
   "language": "python",
   "name": "python3"
  },
  "language_info": {
   "codemirror_mode": {
    "name": "ipython",
    "version": 3
   },
   "file_extension": ".py",
   "mimetype": "text/x-python",
   "name": "python",
   "nbconvert_exporter": "python",
   "pygments_lexer": "ipython3",
   "version": "3.10.11"
  }
 },
 "nbformat": 4,
 "nbformat_minor": 2
}
